{
 "cells": [
  {
   "cell_type": "code",
   "execution_count": 185,
   "id": "01cc97ba",
   "metadata": {},
   "outputs": [],
   "source": [
    "import pandas as pd\n",
    "from IPython.display import display\n",
    "import requests\n",
    "import json\n",
    "\n",
    "# 客製化設定\n",
    "invastAmount = 16000 # 投資金額\n",
    "walletUSTD = 30      # 錢包內USTD\n",
    "currentMilk = 319    # 錢包內牛奶\n",
    "salaryMILK = 1826    # 尚未領取牛奶\n",
    "dailyMilk = 188      # 一天牛奶產量\n",
    "babyCount = 6        # 寶寶數量\n",
    "\n",
    "\n",
    "\n",
    "# 相關參數設定\n",
    "_token_milk = \"0xbf37f781473f3b50e82c668352984865eac9853f\"\n",
    "_token_baby = \"0x53e562b9b7e5e94b81f10e96ee70ad06df3d2657\"\n",
    "\n",
    "# def init():\n",
    "#     df = showTokenList();\n",
    "#     milkPrice = getTokenInfo(_token_milk);\n",
    "#     babyPrice = getTokenInfo(_token_baby);\n",
    "\n",
    "# 取得TOKEN相關資訊\n",
    "def getTokenInfo(token):\n",
    "    url = \"https://api.pancakeswap.info/api/v2/tokens/\" + token\n",
    "    response = requests.request(\"GET\", url)\n",
    "    resStr = json.loads(response.text)\n",
    "    symbol = resStr['data']['symbol']\n",
    "    ustd = float(resStr['data']['price'])\n",
    "    twd = ustd*28\n",
    "    return [symbol,str(ustd)[:6],str(twd)[:6]]\n",
    "\n",
    "# 顯示TOKEN相關資訊\n",
    "def showTokenList():\n",
    "    data = [getTokenInfo(_token_milk), getTokenInfo(_token_baby)]\n",
    "    df =pd.DataFrame(data, columns=[\"Symbol\", \"USTD\",\"TWD\"])\n",
    "    return df;\n",
    "    \n"
   ]
  },
  {
   "cell_type": "code",
   "execution_count": 200,
   "id": "293f7fdf",
   "metadata": {},
   "outputs": [
    {
     "data": {
      "text/html": [
       "<div>\n",
       "<style scoped>\n",
       "    .dataframe tbody tr th:only-of-type {\n",
       "        vertical-align: middle;\n",
       "    }\n",
       "\n",
       "    .dataframe tbody tr th {\n",
       "        vertical-align: top;\n",
       "    }\n",
       "\n",
       "    .dataframe thead th {\n",
       "        text-align: right;\n",
       "    }\n",
       "</style>\n",
       "<table border=\"1\" class=\"dataframe\">\n",
       "  <thead>\n",
       "    <tr style=\"text-align: right;\">\n",
       "      <th></th>\n",
       "      <th>Symbol</th>\n",
       "      <th>USTD</th>\n",
       "      <th>TWD</th>\n",
       "    </tr>\n",
       "  </thead>\n",
       "  <tbody>\n",
       "    <tr>\n",
       "      <th>0</th>\n",
       "      <td>MILK</td>\n",
       "      <td>0.0117</td>\n",
       "      <td>0.3285</td>\n",
       "    </tr>\n",
       "    <tr>\n",
       "      <th>1</th>\n",
       "      <td>BABY</td>\n",
       "      <td>1.9107</td>\n",
       "      <td>53.501</td>\n",
       "    </tr>\n",
       "  </tbody>\n",
       "</table>\n",
       "</div>"
      ],
      "text/plain": [
       "  Symbol    USTD     TWD\n",
       "0   MILK  0.0117  0.3285\n",
       "1   BABY  1.9107  53.501"
      ]
     },
     "metadata": {},
     "output_type": "display_data"
    },
    {
     "name": "stdout",
     "output_type": "stream",
     "text": [
      "投資成本: 16000\n",
      "已回本: 947\n",
      "尚未領取價值: 618\n",
      "每日產能: 381\n",
      "未實現成本: 14435\n",
      "預估幾天回本: 38\n"
     ]
    }
   ],
   "source": [
    "display(showTokenList())\n",
    "\n",
    "milk_twd = float(df.iloc[0][2])\n",
    "# milk_ustd = 0.1\n",
    "# milk_twd = milk_ustd * 28\n",
    "\n",
    "\n",
    "currentAmount = int(walletUSTD * 28 + currentMilk * milk_twd)\n",
    "salaryAmount =  int(salaryMILK * milk_twd)\n",
    "debtAmount = invastAmount - currentAmount - salaryAmount\n",
    "daliyCapacity = int(milk_twd * dailyMilk * babyCount)\n",
    "dayBack = round(debtAmount / daliyCapacity)\n",
    "# print('奶價:' , milk_ustd);\n",
    "print('投資成本:' , invastAmount);\n",
    "print('已回本:' , currentAmount);\n",
    "print('尚未領取價值:' , salaryAmount);\n",
    "print('每日產能:' , daliyCapacity);\n",
    "print('未實現成本:' , debtAmount);\n",
    "print('預估幾天回本:' , dayBack);\n",
    "\n",
    "\n"
   ]
  }
 ],
 "metadata": {
  "kernelspec": {
   "display_name": "Python 3 (ipykernel)",
   "language": "python",
   "name": "python3"
  },
  "language_info": {
   "codemirror_mode": {
    "name": "ipython",
    "version": 3
   },
   "file_extension": ".py",
   "mimetype": "text/x-python",
   "name": "python",
   "nbconvert_exporter": "python",
   "pygments_lexer": "ipython3",
   "version": "3.9.7"
  }
 },
 "nbformat": 4,
 "nbformat_minor": 5
}
